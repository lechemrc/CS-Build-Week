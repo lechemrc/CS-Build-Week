{
 "metadata": {
  "language_info": {
   "codemirror_mode": {
    "name": "ipython",
    "version": 3
   },
   "file_extension": ".py",
   "mimetype": "text/x-python",
   "name": "python",
   "nbconvert_exporter": "python",
   "pygments_lexer": "ipython3",
   "version": "3.7.4-final"
  },
  "orig_nbformat": 2,
  "kernelspec": {
   "name": "python-cs",
   "display_name": "Python (CS Build Week)"
  }
 },
 "nbformat": 4,
 "nbformat_minor": 2,
 "cells": [
  {
   "cell_type": "markdown",
   "metadata": {},
   "source": [
    "# College Score Card data analysis using *K Means Clustering*\n",
    "\n",
    "Source:<br> \n",
    "https://collegescorecard.ed.gov/data/ <br><br>\n",
    "Data Dictionary and Technical Docs: <br>\n",
    "https://collegescorecard.ed.gov/data/documentation/ <br><br>"
   ]
  },
  {
   "cell_type": "code",
   "execution_count": 2,
   "metadata": {},
   "outputs": [],
   "source": [
    "# Base libraries\n",
    "import numpy as np\n",
    "import scipy as sp\n",
    "\n",
    "# Visualization libraries\n",
    "import matplotlib.pyplot as plt\n",
    "import seaborn as sns\n",
    "import pandas as pd\n",
    "\n",
    "# Algorithm testing libraries\n",
    "from sklearn.cluster import KMeans"
   ]
  },
  {
   "cell_type": "code",
   "execution_count": 7,
   "metadata": {
    "tags": []
   },
   "outputs": [],
   "source": [
    "url = 'https://ed-public-download.app.cloud.gov/downloads/Most-Recent-Cohorts-All-Data-Elements.csv'\n",
    "\n",
    "df = pd.read_csv(url)"
   ]
  },
  {
   "cell_type": "code",
   "execution_count": 8,
   "metadata": {
    "tags": []
   },
   "outputs": [
    {
     "output_type": "stream",
     "name": "stdout",
     "text": "Rows: 6806\nColumns: 1986\n"
    },
    {
     "output_type": "execute_result",
     "data": {
      "text/plain": "   UNITID    OPEID  OPEID6                               INSTNM        CITY  \\\n0  100654   100200    1002             Alabama A & M University      Normal   \n1  100663   105200    1052  University of Alabama at Birmingham  Birmingham   \n2  100690  2503400   25034                   Amridge University  Montgomery   \n3  100706   105500    1055  University of Alabama in Huntsville  Huntsville   \n4  100724   100500    1005             Alabama State University  Montgomery   \n\n  STABBR         ZIP                                       ACCREDAGENCY  \\\n0     AL       35762  Southern Association of Colleges and Schools C...   \n1     AL  35294-0110  Southern Association of Colleges and Schools C...   \n2     AL  36117-3553  Southern Association of Colleges and Schools C...   \n3     AL       35899  Southern Association of Colleges and Schools C...   \n4     AL  36104-0271  Southern Association of Colleges and Schools C...   \n\n                     INSTURL  \\\n0              www.aamu.edu/   \n1        https://www.uab.edu   \n2  www.amridgeuniversity.edu   \n3                www.uah.edu   \n4              www.alasu.edu   \n\n                                              NPCURL  ...  \\\n0  www.aamu.edu/admissions-aid/tuition-fees/net-p...  ...   \n1   https://uab.studentaidcalculator.com/survey.aspx  ...   \n2                   www2.amridgeuniversity.edu:9091/  ...   \n3                                    finaid.uah.edu/  ...   \n4  www.alasu.edu/cost-aid/tuition-costs/net-price...  ...   \n\n   OMENRUP_PARTTIME_POOLED_SUPP  FTFTPCTPELL  FTFTPCTFLOAN   UG12MN    G12MN  \\\n0                        0.3193       0.7057        0.7143   5343.0   1165.0   \n1                        0.2475       0.3788        0.5350  14445.0  10498.0   \n2                        0.2836       1.0000        1.0000    440.0    527.0   \n3                        0.2496       0.2707        0.4556   8145.0   2443.0   \n4                        0.2621       0.7792        0.7539   4732.0    642.0   \n\n   SCUGFFN  POOLYRS_FTFTAIDPCT  FTFTPCTPELL_POOLED_SUPP  \\\n0   1288.0                 2.0                   0.7083   \n1   2228.0                 2.0                   0.3891   \n2      5.0                 4.0        PrivacySuppressed   \n3   1341.0                 2.0                   0.2378   \n4    951.0                 2.0                   0.7684   \n\n   FTFTPCTFLOAN_POOLED_SUPP  SCUGFFN_POOLED  \n0                    0.7287          2698.0  \n1                    0.5414          4176.0  \n2         PrivacySuppressed            24.0  \n3                    0.4402          2544.0  \n4                    0.7464          2094.0  \n\n[5 rows x 1986 columns]",
      "text/html": "<div>\n<style scoped>\n    .dataframe tbody tr th:only-of-type {\n        vertical-align: middle;\n    }\n\n    .dataframe tbody tr th {\n        vertical-align: top;\n    }\n\n    .dataframe thead th {\n        text-align: right;\n    }\n</style>\n<table border=\"1\" class=\"dataframe\">\n  <thead>\n    <tr style=\"text-align: right;\">\n      <th></th>\n      <th>UNITID</th>\n      <th>OPEID</th>\n      <th>OPEID6</th>\n      <th>INSTNM</th>\n      <th>CITY</th>\n      <th>STABBR</th>\n      <th>ZIP</th>\n      <th>ACCREDAGENCY</th>\n      <th>INSTURL</th>\n      <th>NPCURL</th>\n      <th>...</th>\n      <th>OMENRUP_PARTTIME_POOLED_SUPP</th>\n      <th>FTFTPCTPELL</th>\n      <th>FTFTPCTFLOAN</th>\n      <th>UG12MN</th>\n      <th>G12MN</th>\n      <th>SCUGFFN</th>\n      <th>POOLYRS_FTFTAIDPCT</th>\n      <th>FTFTPCTPELL_POOLED_SUPP</th>\n      <th>FTFTPCTFLOAN_POOLED_SUPP</th>\n      <th>SCUGFFN_POOLED</th>\n    </tr>\n  </thead>\n  <tbody>\n    <tr>\n      <th>0</th>\n      <td>100654</td>\n      <td>100200</td>\n      <td>1002</td>\n      <td>Alabama A &amp; M University</td>\n      <td>Normal</td>\n      <td>AL</td>\n      <td>35762</td>\n      <td>Southern Association of Colleges and Schools C...</td>\n      <td>www.aamu.edu/</td>\n      <td>www.aamu.edu/admissions-aid/tuition-fees/net-p...</td>\n      <td>...</td>\n      <td>0.3193</td>\n      <td>0.7057</td>\n      <td>0.7143</td>\n      <td>5343.0</td>\n      <td>1165.0</td>\n      <td>1288.0</td>\n      <td>2.0</td>\n      <td>0.7083</td>\n      <td>0.7287</td>\n      <td>2698.0</td>\n    </tr>\n    <tr>\n      <th>1</th>\n      <td>100663</td>\n      <td>105200</td>\n      <td>1052</td>\n      <td>University of Alabama at Birmingham</td>\n      <td>Birmingham</td>\n      <td>AL</td>\n      <td>35294-0110</td>\n      <td>Southern Association of Colleges and Schools C...</td>\n      <td>https://www.uab.edu</td>\n      <td>https://uab.studentaidcalculator.com/survey.aspx</td>\n      <td>...</td>\n      <td>0.2475</td>\n      <td>0.3788</td>\n      <td>0.5350</td>\n      <td>14445.0</td>\n      <td>10498.0</td>\n      <td>2228.0</td>\n      <td>2.0</td>\n      <td>0.3891</td>\n      <td>0.5414</td>\n      <td>4176.0</td>\n    </tr>\n    <tr>\n      <th>2</th>\n      <td>100690</td>\n      <td>2503400</td>\n      <td>25034</td>\n      <td>Amridge University</td>\n      <td>Montgomery</td>\n      <td>AL</td>\n      <td>36117-3553</td>\n      <td>Southern Association of Colleges and Schools C...</td>\n      <td>www.amridgeuniversity.edu</td>\n      <td>www2.amridgeuniversity.edu:9091/</td>\n      <td>...</td>\n      <td>0.2836</td>\n      <td>1.0000</td>\n      <td>1.0000</td>\n      <td>440.0</td>\n      <td>527.0</td>\n      <td>5.0</td>\n      <td>4.0</td>\n      <td>PrivacySuppressed</td>\n      <td>PrivacySuppressed</td>\n      <td>24.0</td>\n    </tr>\n    <tr>\n      <th>3</th>\n      <td>100706</td>\n      <td>105500</td>\n      <td>1055</td>\n      <td>University of Alabama in Huntsville</td>\n      <td>Huntsville</td>\n      <td>AL</td>\n      <td>35899</td>\n      <td>Southern Association of Colleges and Schools C...</td>\n      <td>www.uah.edu</td>\n      <td>finaid.uah.edu/</td>\n      <td>...</td>\n      <td>0.2496</td>\n      <td>0.2707</td>\n      <td>0.4556</td>\n      <td>8145.0</td>\n      <td>2443.0</td>\n      <td>1341.0</td>\n      <td>2.0</td>\n      <td>0.2378</td>\n      <td>0.4402</td>\n      <td>2544.0</td>\n    </tr>\n    <tr>\n      <th>4</th>\n      <td>100724</td>\n      <td>100500</td>\n      <td>1005</td>\n      <td>Alabama State University</td>\n      <td>Montgomery</td>\n      <td>AL</td>\n      <td>36104-0271</td>\n      <td>Southern Association of Colleges and Schools C...</td>\n      <td>www.alasu.edu</td>\n      <td>www.alasu.edu/cost-aid/tuition-costs/net-price...</td>\n      <td>...</td>\n      <td>0.2621</td>\n      <td>0.7792</td>\n      <td>0.7539</td>\n      <td>4732.0</td>\n      <td>642.0</td>\n      <td>951.0</td>\n      <td>2.0</td>\n      <td>0.7684</td>\n      <td>0.7464</td>\n      <td>2094.0</td>\n    </tr>\n  </tbody>\n</table>\n<p>5 rows × 1986 columns</p>\n</div>"
     },
     "metadata": {},
     "execution_count": 8
    }
   ],
   "source": [
    "print(f'Rows: {len(df)}')\n",
    "print(f'Columns: {len(df.columns)}')\n",
    "df.head()"
   ]
  },
  {
   "cell_type": "code",
   "execution_count": null,
   "metadata": {},
   "outputs": [],
   "source": []
  }
 ]
}